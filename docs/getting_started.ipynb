{
 "cells": [
  {
   "cell_type": "markdown",
   "source": [
    "# Getting Started With `riweather`"
   ],
   "metadata": {
    "collapsed": false
   }
  },
  {
   "cell_type": "code",
   "execution_count": 1,
   "metadata": {},
   "source": [
    "import matplotlib.pyplot as plt\n",
    "\n",
    "import riweather\n",
    "\n",
    "%matplotlib inline"
   ],
   "outputs": []
  },
  {
   "cell_type": "markdown",
   "source": [
    "Suppose you need weather data at a certain site. To list all weather stations in order of their distance to that site, use [`riweather.rank_stations()`][riweather.rank_stations]."
   ],
   "metadata": {
    "collapsed": false
   }
  },
  {
   "cell_type": "code",
   "execution_count": 2,
   "source": [
    "my_lat, my_lon = 39.98, -105.13\n",
    "ranked_stations = riweather.rank_stations(my_lat, my_lon)"
   ],
   "metadata": {
    "collapsed": false
   },
   "outputs": []
  },
  {
   "cell_type": "code",
   "execution_count": 3,
   "source": [
    "print(\"Number of stations returned:\", ranked_stations.shape[0])\n",
    "ranked_stations.head()"
   ],
   "metadata": {
    "collapsed": false
   },
   "outputs": []
  },
  {
   "cell_type": "markdown",
   "source": [
    "This gives us the name and USAF identifiers of all ISD weather stations in the United States, along with their latitudes and longitudes and their distances (in meters) to the target site. The \"years\" column is a list of years for which there is available weather data from that station. The \"quality\" column contains the quality of the data file for the corresponding year---this is based on the number of observations in the file.\n",
    "\n",
    "You probably don't want all three thousand weather stations that are returned, so let's be more efficient and limit our search to stations that have data for 2022 and stations that are within 20 km."
   ],
   "metadata": {
    "collapsed": false
   }
  },
  {
   "cell_type": "code",
   "execution_count": 4,
   "source": [
    "ranked_stations = riweather.rank_stations(\n",
    "    my_lat,\n",
    "    my_lon,\n",
    "    year=2022,\n",
    "    max_distance_m=20000,\n",
    ")\n",
    "ranked_stations"
   ],
   "metadata": {
    "collapsed": false
   },
   "outputs": []
  },
  {
   "cell_type": "markdown",
   "source": [
    "Select the closest station, Erie Municipal Airport, using [`riweather.select_station()`][riweather.select_station]."
   ],
   "metadata": {
    "collapsed": false
   }
  },
  {
   "cell_type": "code",
   "execution_count": 5,
   "source": [
    "station = riweather.select_station(ranked_stations, rank=0)\n",
    "station"
   ],
   "metadata": {
    "collapsed": false
   },
   "outputs": []
  },
  {
   "cell_type": "markdown",
   "source": [
    "Let's see how complete we can expect the data to be when we pull it by looking at the quality report."
   ],
   "metadata": {
    "collapsed": false
   }
  },
  {
   "cell_type": "code",
   "execution_count": 6,
   "source": [
    "station.quality_report()"
   ],
   "metadata": {
    "collapsed": false
   },
   "outputs": []
  },
  {
   "cell_type": "markdown",
   "source": [
    "The data for 2022 is `\"high\"` quality, with more than 2,000 observations in each month. Assuming they are evenly spaced, that corresponds to one observation roughly every 20 minutes."
   ],
   "metadata": {
    "collapsed": false
   }
  },
  {
   "cell_type": "markdown",
   "source": [
    "Now we can use the [`Station.fetch_temp_data()`][riweather.Station.fetch_temp_data] method to get temperature data in degrees Fahrenheit."
   ],
   "metadata": {
    "collapsed": false
   }
  },
  {
   "cell_type": "code",
   "execution_count": 7,
   "source": [
    "ts = station.fetch_temp_data(2022, value=\"temperature\", scale=\"F\")\n",
    "ts.head()"
   ],
   "metadata": {
    "collapsed": false
   },
   "outputs": []
  },
  {
   "cell_type": "markdown",
   "source": [
    "It's important to note that **the timestamps are always in UTC**. The temperature data is hourly by default, but `riweather` can resample it to a different frequency as well."
   ],
   "metadata": {
    "collapsed": false
   }
  },
  {
   "cell_type": "code",
   "execution_count": 8,
   "source": [
    "ts_30min = station.fetch_temp_data(\n",
    "    2022,\n",
    "    value=\"temperature\",\n",
    "    scale=\"F\",\n",
    "    period=\"30min\",\n",
    ")\n",
    "ts_30min.head()"
   ],
   "metadata": {
    "collapsed": false
   },
   "outputs": []
  },
  {
   "cell_type": "code",
   "execution_count": 9,
   "source": [
    "ts_30min.plot(\n",
    "    title=f\"Air temperature at {station.name.title()}, 2022\",\n",
    "    ylabel=\"Air temperature (degrees F)\",\n",
    ")\n",
    "plt.show()"
   ],
   "metadata": {
    "collapsed": false
   },
   "outputs": []
  },
  {
   "cell_type": "markdown",
   "source": [
    "We can verify the location of our site and the nearest weather stations by plotting them on a map with [`riweather.plot_stations()`][riweather.plot_stations]."
   ],
   "metadata": {
    "collapsed": false
   }
  },
  {
   "cell_type": "code",
   "execution_count": 10,
   "source": [
    "riweather.plot_stations(my_lat, my_lon, ranked_stations, distance_unit=\"mi\")"
   ],
   "metadata": {
    "collapsed": false
   },
   "outputs": []
  },
  {
   "cell_type": "markdown",
   "source": [
    "Only have a ZIP code for your site and not a precise latitude and longitude? No problem. You can use [`riweather.zcta_to_lat_lon()`][riweather.zcta_to_lat_lon] to get an approximate location."
   ],
   "metadata": {
    "collapsed": false
   }
  },
  {
   "cell_type": "code",
   "execution_count": 11,
   "source": [
    "my_lat, my_lon = riweather.zcta_to_lat_lon(\"80027\")\n",
    "print(f\"{my_lat:.3f}\", f\"{my_lon:.3f}\")"
   ],
   "metadata": {
    "collapsed": false
   },
   "outputs": []
  },
  {
   "cell_type": "code",
   "execution_count": 12,
   "source": [
    "ranked_stations = riweather.rank_stations(my_lat, my_lon, max_distance_m=20000)\n",
    "riweather.plot_stations(my_lat, my_lon, ranked_stations, distance_unit=\"mi\")"
   ],
   "metadata": {
    "collapsed": false
   },
   "outputs": []
  }
 ],
 "metadata": {
  "kernelspec": {
   "display_name": "Python 3 (ipykernel)",
   "language": "python",
   "name": "python3"
  },
  "language_info": {
   "codemirror_mode": {
    "name": "ipython",
    "version": 3
   },
   "file_extension": ".py",
   "mimetype": "text/x-python",
   "name": "python",
   "nbconvert_exporter": "python",
   "pygments_lexer": "ipython3",
   "version": "3.10.0"
  }
 },
 "nbformat": 4,
 "nbformat_minor": 1
}
