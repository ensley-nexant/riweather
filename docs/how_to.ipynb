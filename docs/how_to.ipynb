{
 "cells": [
  {
   "cell_type": "markdown",
   "metadata": {
    "collapsed": false,
    "jupyter": {
     "outputs_hidden": false
    }
   },
   "source": [
    "# Getting Started With `riweather`"
   ]
  },
  {
   "cell_type": "code",
   "execution_count": 1,
   "metadata": {},
   "outputs": [],
   "source": [
    "import matplotlib.pyplot as plt\n",
    "import riweather\n",
    "%matplotlib inline"
   ]
  },
  {
   "cell_type": "markdown",
   "metadata": {},
   "source": [
    "## Finding a weather station"
   ]
  },
  {
   "cell_type": "markdown",
   "metadata": {
    "collapsed": false,
    "jupyter": {
     "outputs_hidden": false
    }
   },
   "source": [
    "Suppose you need weather data at a certain latitude and longitude. To list all weather stations in order of their distance to that site, use [`riweather.rank_stations`][]."
   ]
  },
  {
   "cell_type": "code",
   "execution_count": 2,
   "metadata": {
    "collapsed": false,
    "jupyter": {
     "outputs_hidden": false
    }
   },
   "outputs": [],
   "source": [
    "my_lat, my_lon = 39.98, -105.13\n",
    "ranked_stations = riweather.rank_stations(my_lat, my_lon)"
   ]
  },
  {
   "cell_type": "code",
   "execution_count": 3,
   "metadata": {
    "collapsed": false,
    "jupyter": {
     "outputs_hidden": false
    }
   },
   "outputs": [
    {
     "name": "stdout",
     "output_type": "stream",
     "text": [
      "Number of stations returned: 2868\n"
     ]
    },
    {
     "data": {
      "text/html": [
       "<div>\n",
       "<style scoped>\n",
       "    .dataframe tbody tr th:only-of-type {\n",
       "        vertical-align: middle;\n",
       "    }\n",
       "\n",
       "    .dataframe tbody tr th {\n",
       "        vertical-align: top;\n",
       "    }\n",
       "\n",
       "    .dataframe thead th {\n",
       "        text-align: right;\n",
       "    }\n",
       "</style>\n",
       "<table border=\"1\" class=\"dataframe\">\n",
       "  <thead>\n",
       "    <tr style=\"text-align: right;\">\n",
       "      <th></th>\n",
       "      <th>name</th>\n",
       "      <th>distance</th>\n",
       "      <th>latitude</th>\n",
       "      <th>longitude</th>\n",
       "      <th>years</th>\n",
       "      <th>quality</th>\n",
       "    </tr>\n",
       "    <tr>\n",
       "      <th>usaf_id</th>\n",
       "      <th></th>\n",
       "      <th></th>\n",
       "      <th></th>\n",
       "      <th></th>\n",
       "      <th></th>\n",
       "      <th></th>\n",
       "    </tr>\n",
       "  </thead>\n",
       "  <tbody>\n",
       "    <tr>\n",
       "      <th>720534</th>\n",
       "      <td>ERIE MUNICIPAL AIRPORT</td>\n",
       "      <td>7971.794695</td>\n",
       "      <td>40.017</td>\n",
       "      <td>-105.050</td>\n",
       "      <td>[2014, 2015, 2016, 2017, 2018, 2019, 2020, 202...</td>\n",
       "      <td>[low, high, high, high, high, high, high, high...</td>\n",
       "    </tr>\n",
       "    <tr>\n",
       "      <th>724699</th>\n",
       "      <td>ATCT ROCKY MOUNTAIN METRO</td>\n",
       "      <td>8951.899139</td>\n",
       "      <td>39.900</td>\n",
       "      <td>-105.117</td>\n",
       "      <td>[2006, 2007, 2008, 2009, 2010, 2011, 2012, 201...</td>\n",
       "      <td>[medium, medium, medium, medium, high, high, h...</td>\n",
       "    </tr>\n",
       "    <tr>\n",
       "      <th>720533</th>\n",
       "      <td>BOULDER MUNICIPAL AIRPORT</td>\n",
       "      <td>9477.070760</td>\n",
       "      <td>40.033</td>\n",
       "      <td>-105.217</td>\n",
       "      <td>[2010, 2011, 2012, 2013, 2014, 2015, 2016, 201...</td>\n",
       "      <td>[medium, high, high, high, high, high, high, h...</td>\n",
       "    </tr>\n",
       "    <tr>\n",
       "      <th>720538</th>\n",
       "      <td>VANCE BRAND AIRPORT</td>\n",
       "      <td>21002.247034</td>\n",
       "      <td>40.167</td>\n",
       "      <td>-105.167</td>\n",
       "      <td>[2010, 2011, 2012, 2013, 2014, 2015, 2016, 201...</td>\n",
       "      <td>[low, high, high, high, high, high, high, high...</td>\n",
       "    </tr>\n",
       "    <tr>\n",
       "      <th>725650</th>\n",
       "      <td>DENVER INTERNATIONAL AIRPORT</td>\n",
       "      <td>43134.270016</td>\n",
       "      <td>39.847</td>\n",
       "      <td>-104.656</td>\n",
       "      <td>[2005, 2006, 2007, 2008, 2009, 2010, 2011, 201...</td>\n",
       "      <td>[high, high, high, high, high, high, high, hig...</td>\n",
       "    </tr>\n",
       "  </tbody>\n",
       "</table>\n",
       "</div>"
      ],
      "text/plain": [
       "                                 name      distance  latitude  longitude  \\\n",
       "usaf_id                                                                    \n",
       "720534         ERIE MUNICIPAL AIRPORT   7971.794695    40.017   -105.050   \n",
       "724699      ATCT ROCKY MOUNTAIN METRO   8951.899139    39.900   -105.117   \n",
       "720533      BOULDER MUNICIPAL AIRPORT   9477.070760    40.033   -105.217   \n",
       "720538            VANCE BRAND AIRPORT  21002.247034    40.167   -105.167   \n",
       "725650   DENVER INTERNATIONAL AIRPORT  43134.270016    39.847   -104.656   \n",
       "\n",
       "                                                     years  \\\n",
       "usaf_id                                                      \n",
       "720534   [2014, 2015, 2016, 2017, 2018, 2019, 2020, 202...   \n",
       "724699   [2006, 2007, 2008, 2009, 2010, 2011, 2012, 201...   \n",
       "720533   [2010, 2011, 2012, 2013, 2014, 2015, 2016, 201...   \n",
       "720538   [2010, 2011, 2012, 2013, 2014, 2015, 2016, 201...   \n",
       "725650   [2005, 2006, 2007, 2008, 2009, 2010, 2011, 201...   \n",
       "\n",
       "                                                   quality  \n",
       "usaf_id                                                     \n",
       "720534   [low, high, high, high, high, high, high, high...  \n",
       "724699   [medium, medium, medium, medium, high, high, h...  \n",
       "720533   [medium, high, high, high, high, high, high, h...  \n",
       "720538   [low, high, high, high, high, high, high, high...  \n",
       "725650   [high, high, high, high, high, high, high, hig...  "
      ]
     },
     "execution_count": 3,
     "metadata": {},
     "output_type": "execute_result"
    }
   ],
   "source": [
    "print(\"Number of stations returned:\", ranked_stations.shape[0])\n",
    "ranked_stations.head()"
   ]
  },
  {
   "cell_type": "markdown",
   "metadata": {
    "collapsed": false,
    "jupyter": {
     "outputs_hidden": false
    }
   },
   "source": [
    "This gives us the name and USAF identifiers of all ISD weather stations in the United States, along with their latitudes and longitudes and their distances (in meters) to the target site. The \"years\" column is a list of years for which there is available weather data from that station. The \"quality\" column contains the quality of the data file for the corresponding year---this is based on the number of observations in the file.\n",
    "\n",
    "You probably don't need all of the thousands of weather stations that are returned, so let's be more efficient and limit our search to stations that have data for 2024 and are within 20 km of our site."
   ]
  },
  {
   "cell_type": "code",
   "execution_count": 4,
   "metadata": {
    "collapsed": false,
    "jupyter": {
     "outputs_hidden": false
    }
   },
   "outputs": [
    {
     "data": {
      "text/html": [
       "<div>\n",
       "<style scoped>\n",
       "    .dataframe tbody tr th:only-of-type {\n",
       "        vertical-align: middle;\n",
       "    }\n",
       "\n",
       "    .dataframe tbody tr th {\n",
       "        vertical-align: top;\n",
       "    }\n",
       "\n",
       "    .dataframe thead th {\n",
       "        text-align: right;\n",
       "    }\n",
       "</style>\n",
       "<table border=\"1\" class=\"dataframe\">\n",
       "  <thead>\n",
       "    <tr style=\"text-align: right;\">\n",
       "      <th></th>\n",
       "      <th>name</th>\n",
       "      <th>distance</th>\n",
       "      <th>latitude</th>\n",
       "      <th>longitude</th>\n",
       "      <th>years</th>\n",
       "      <th>quality</th>\n",
       "    </tr>\n",
       "    <tr>\n",
       "      <th>usaf_id</th>\n",
       "      <th></th>\n",
       "      <th></th>\n",
       "      <th></th>\n",
       "      <th></th>\n",
       "      <th></th>\n",
       "      <th></th>\n",
       "    </tr>\n",
       "  </thead>\n",
       "  <tbody>\n",
       "    <tr>\n",
       "      <th>720534</th>\n",
       "      <td>ERIE MUNICIPAL AIRPORT</td>\n",
       "      <td>7971.794695</td>\n",
       "      <td>40.017</td>\n",
       "      <td>-105.050</td>\n",
       "      <td>[2014, 2015, 2016, 2017, 2018, 2019, 2020, 202...</td>\n",
       "      <td>[low, high, high, high, high, high, high, high...</td>\n",
       "    </tr>\n",
       "    <tr>\n",
       "      <th>724699</th>\n",
       "      <td>ATCT ROCKY MOUNTAIN METRO</td>\n",
       "      <td>8951.899139</td>\n",
       "      <td>39.900</td>\n",
       "      <td>-105.117</td>\n",
       "      <td>[2006, 2007, 2008, 2009, 2010, 2011, 2012, 201...</td>\n",
       "      <td>[medium, medium, medium, medium, high, high, h...</td>\n",
       "    </tr>\n",
       "    <tr>\n",
       "      <th>720533</th>\n",
       "      <td>BOULDER MUNICIPAL AIRPORT</td>\n",
       "      <td>9477.070760</td>\n",
       "      <td>40.033</td>\n",
       "      <td>-105.217</td>\n",
       "      <td>[2010, 2011, 2012, 2013, 2014, 2015, 2016, 201...</td>\n",
       "      <td>[medium, high, high, high, high, high, high, h...</td>\n",
       "    </tr>\n",
       "  </tbody>\n",
       "</table>\n",
       "</div>"
      ],
      "text/plain": [
       "                              name     distance  latitude  longitude  \\\n",
       "usaf_id                                                                \n",
       "720534      ERIE MUNICIPAL AIRPORT  7971.794695    40.017   -105.050   \n",
       "724699   ATCT ROCKY MOUNTAIN METRO  8951.899139    39.900   -105.117   \n",
       "720533   BOULDER MUNICIPAL AIRPORT  9477.070760    40.033   -105.217   \n",
       "\n",
       "                                                     years  \\\n",
       "usaf_id                                                      \n",
       "720534   [2014, 2015, 2016, 2017, 2018, 2019, 2020, 202...   \n",
       "724699   [2006, 2007, 2008, 2009, 2010, 2011, 2012, 201...   \n",
       "720533   [2010, 2011, 2012, 2013, 2014, 2015, 2016, 201...   \n",
       "\n",
       "                                                   quality  \n",
       "usaf_id                                                     \n",
       "720534   [low, high, high, high, high, high, high, high...  \n",
       "724699   [medium, medium, medium, medium, high, high, h...  \n",
       "720533   [medium, high, high, high, high, high, high, h...  "
      ]
     },
     "execution_count": 4,
     "metadata": {},
     "output_type": "execute_result"
    }
   ],
   "source": [
    "ranked_stations = riweather.rank_stations(\n",
    "    my_lat,\n",
    "    my_lon,\n",
    "    year=2024,\n",
    "    max_distance_m=20000,\n",
    ")\n",
    "ranked_stations"
   ]
  },
  {
   "cell_type": "markdown",
   "metadata": {
    "collapsed": false,
    "jupyter": {
     "outputs_hidden": false
    }
   },
   "source": [
    "Erie Municipal Airport is the closest station. To access its weather data, first create a [`Station` object][riweather.Station] using its USAF ID."
   ]
  },
  {
   "cell_type": "code",
   "execution_count": 5,
   "metadata": {
    "collapsed": false,
    "jupyter": {
     "outputs_hidden": false
    }
   },
   "outputs": [
    {
     "data": {
      "text/plain": [
       "'ERIE MUNICIPAL AIRPORT'"
      ]
     },
     "execution_count": 5,
     "metadata": {},
     "output_type": "execute_result"
    }
   ],
   "source": [
    "station = riweather.Station(\"720534\")\n",
    "station.name"
   ]
  },
  {
   "cell_type": "markdown",
   "metadata": {},
   "source": [
    "Alternatively, use [`riweather.select_station`][], selecting the first station in the table by passing `rank=0`."
   ]
  },
  {
   "cell_type": "code",
   "execution_count": 6,
   "metadata": {},
   "outputs": [
    {
     "data": {
      "text/plain": [
       "'ERIE MUNICIPAL AIRPORT'"
      ]
     },
     "execution_count": 6,
     "metadata": {},
     "output_type": "execute_result"
    }
   ],
   "source": [
    "station = riweather.select_station(ranked_stations, rank=0)\n",
    "station.name"
   ]
  },
  {
   "cell_type": "markdown",
   "metadata": {},
   "source": [
    "### Finding a station from a ZIP code"
   ]
  },
  {
   "cell_type": "markdown",
   "metadata": {},
   "source": [
    "Only have a ZIP code for your site and not a precise latitude and longitude? No problem. If you pass a ZIP code to [`riweather.rank_stations`][] instead of lat/lon, it will rank the weather stations by their distances from the center point of the ZIP code tabulation area (ZCTA)."
   ]
  },
  {
   "cell_type": "code",
   "execution_count": 7,
   "metadata": {},
   "outputs": [
    {
     "data": {
      "text/html": [
       "<div>\n",
       "<style scoped>\n",
       "    .dataframe tbody tr th:only-of-type {\n",
       "        vertical-align: middle;\n",
       "    }\n",
       "\n",
       "    .dataframe tbody tr th {\n",
       "        vertical-align: top;\n",
       "    }\n",
       "\n",
       "    .dataframe thead th {\n",
       "        text-align: right;\n",
       "    }\n",
       "</style>\n",
       "<table border=\"1\" class=\"dataframe\">\n",
       "  <thead>\n",
       "    <tr style=\"text-align: right;\">\n",
       "      <th></th>\n",
       "      <th>name</th>\n",
       "      <th>distance</th>\n",
       "      <th>latitude</th>\n",
       "      <th>longitude</th>\n",
       "      <th>years</th>\n",
       "      <th>quality</th>\n",
       "    </tr>\n",
       "    <tr>\n",
       "      <th>usaf_id</th>\n",
       "      <th></th>\n",
       "      <th></th>\n",
       "      <th></th>\n",
       "      <th></th>\n",
       "      <th></th>\n",
       "      <th></th>\n",
       "    </tr>\n",
       "  </thead>\n",
       "  <tbody>\n",
       "    <tr>\n",
       "      <th>724699</th>\n",
       "      <td>ATCT ROCKY MOUNTAIN METRO</td>\n",
       "      <td>6901.277347</td>\n",
       "      <td>39.900</td>\n",
       "      <td>-105.117</td>\n",
       "      <td>[2006, 2007, 2008, 2009, 2010, 2011, 2012, 201...</td>\n",
       "      <td>[medium, medium, medium, medium, high, high, h...</td>\n",
       "    </tr>\n",
       "    <tr>\n",
       "      <th>720533</th>\n",
       "      <td>BOULDER MUNICIPAL AIRPORT</td>\n",
       "      <td>10206.621488</td>\n",
       "      <td>40.033</td>\n",
       "      <td>-105.217</td>\n",
       "      <td>[2010, 2011, 2012, 2013, 2014, 2015, 2016, 201...</td>\n",
       "      <td>[medium, high, high, high, high, high, high, h...</td>\n",
       "    </tr>\n",
       "    <tr>\n",
       "      <th>720534</th>\n",
       "      <td>ERIE MUNICIPAL AIRPORT</td>\n",
       "      <td>12169.752144</td>\n",
       "      <td>40.017</td>\n",
       "      <td>-105.050</td>\n",
       "      <td>[2014, 2015, 2016, 2017, 2018, 2019, 2020, 202...</td>\n",
       "      <td>[low, high, high, high, high, high, high, high...</td>\n",
       "    </tr>\n",
       "    <tr>\n",
       "      <th>720538</th>\n",
       "      <td>VANCE BRAND AIRPORT</td>\n",
       "      <td>24009.264942</td>\n",
       "      <td>40.167</td>\n",
       "      <td>-105.167</td>\n",
       "      <td>[2010, 2011, 2012, 2013, 2014, 2015, 2016, 201...</td>\n",
       "      <td>[low, high, high, high, high, high, high, high...</td>\n",
       "    </tr>\n",
       "    <tr>\n",
       "      <th>724695</th>\n",
       "      <td>BUCKLEY AIR FORCE BASE</td>\n",
       "      <td>43896.481997</td>\n",
       "      <td>39.717</td>\n",
       "      <td>-104.750</td>\n",
       "      <td>[2005, 2006, 2007, 2008, 2009, 2010, 2011, 201...</td>\n",
       "      <td>[high, high, high, high, high, high, high, hig...</td>\n",
       "    </tr>\n",
       "  </tbody>\n",
       "</table>\n",
       "</div>"
      ],
      "text/plain": [
       "                              name      distance  latitude  longitude  \\\n",
       "usaf_id                                                                 \n",
       "724699   ATCT ROCKY MOUNTAIN METRO   6901.277347    39.900   -105.117   \n",
       "720533   BOULDER MUNICIPAL AIRPORT  10206.621488    40.033   -105.217   \n",
       "720534      ERIE MUNICIPAL AIRPORT  12169.752144    40.017   -105.050   \n",
       "720538         VANCE BRAND AIRPORT  24009.264942    40.167   -105.167   \n",
       "724695      BUCKLEY AIR FORCE BASE  43896.481997    39.717   -104.750   \n",
       "\n",
       "                                                     years  \\\n",
       "usaf_id                                                      \n",
       "724699   [2006, 2007, 2008, 2009, 2010, 2011, 2012, 201...   \n",
       "720533   [2010, 2011, 2012, 2013, 2014, 2015, 2016, 201...   \n",
       "720534   [2014, 2015, 2016, 2017, 2018, 2019, 2020, 202...   \n",
       "720538   [2010, 2011, 2012, 2013, 2014, 2015, 2016, 201...   \n",
       "724695   [2005, 2006, 2007, 2008, 2009, 2010, 2011, 201...   \n",
       "\n",
       "                                                   quality  \n",
       "usaf_id                                                     \n",
       "724699   [medium, medium, medium, medium, high, high, h...  \n",
       "720533   [medium, high, high, high, high, high, high, h...  \n",
       "720534   [low, high, high, high, high, high, high, high...  \n",
       "720538   [low, high, high, high, high, high, high, high...  \n",
       "724695   [high, high, high, high, high, high, high, hig...  "
      ]
     },
     "execution_count": 7,
     "metadata": {},
     "output_type": "execute_result"
    }
   ],
   "source": [
    "riweather.rank_stations(zipcode=\"80027\").head()"
   ]
  },
  {
   "cell_type": "markdown",
   "metadata": {},
   "source": [
    "Behind the scenes, this uses the function [`riweather.zcta_to_lat_lon`][] to determine the center point."
   ]
  },
  {
   "cell_type": "code",
   "execution_count": 8,
   "metadata": {
    "collapsed": false,
    "jupyter": {
     "outputs_hidden": false
    }
   },
   "outputs": [
    {
     "name": "stdout",
     "output_type": "stream",
     "text": [
      "Latitude: 39.951, Longitude: -105.164\n"
     ]
    }
   ],
   "source": [
    "my_lat, my_lon = riweather.zcta_to_lat_lon(\"80027\")\n",
    "print(f\"Latitude: {my_lat:.3f}, Longitude: {my_lon:.3f}\")"
   ]
  },
  {
   "cell_type": "markdown",
   "metadata": {},
   "source": [
    "## Visualizing weather stations on a map"
   ]
  },
  {
   "cell_type": "markdown",
   "metadata": {
    "collapsed": false,
    "jupyter": {
     "outputs_hidden": false
    }
   },
   "source": [
    "We can verify the location of our site and the nearest weather stations by plotting them on an interactive map with [`riweather.plot_stations`][]. The pin represents the lat/lon site and the cloud icons represent the weather stations. Click on a station to see its name, and click on a line to see the distance between a station and the site.\n",
    "\n",
    "!!! warning\n",
    "    It's probably not a good idea to plot the entire set of 2,000+ stations on a map. Make sure `ranked_stations` is filtered down to a reasonable size first."
   ]
  },
  {
   "cell_type": "code",
   "execution_count": 9,
   "metadata": {
    "collapsed": false,
    "jupyter": {
     "outputs_hidden": false
    }
   },
   "outputs": [
    {
     "data": {
      "text/html": [
       "<div style=\"width:100%;\"><div style=\"position:relative;width:100%;height:0;padding-bottom:60%;\"><span style=\"color:#565656\">Make this Notebook Trusted to load map: File -> Trust Notebook</span><iframe srcdoc=\"&lt;!DOCTYPE html&gt;\n",
       "&lt;html&gt;\n",
       "&lt;head&gt;\n",
       "    \n",
       "    &lt;meta http-equiv=&quot;content-type&quot; content=&quot;text/html; charset=UTF-8&quot; /&gt;\n",
       "    \n",
       "        &lt;script&gt;\n",
       "            L_NO_TOUCH = false;\n",
       "            L_DISABLE_3D = false;\n",
       "        &lt;/script&gt;\n",
       "    \n",
       "    &lt;style&gt;html, body {width: 100%;height: 100%;margin: 0;padding: 0;}&lt;/style&gt;\n",
       "    &lt;style&gt;#map {position:absolute;top:0;bottom:0;right:0;left:0;}&lt;/style&gt;\n",
       "    &lt;script src=&quot;https://cdn.jsdelivr.net/npm/leaflet@1.9.3/dist/leaflet.js&quot;&gt;&lt;/script&gt;\n",
       "    &lt;script src=&quot;https://code.jquery.com/jquery-3.7.1.min.js&quot;&gt;&lt;/script&gt;\n",
       "    &lt;script src=&quot;https://cdn.jsdelivr.net/npm/bootstrap@5.2.2/dist/js/bootstrap.bundle.min.js&quot;&gt;&lt;/script&gt;\n",
       "    &lt;script src=&quot;https://cdnjs.cloudflare.com/ajax/libs/Leaflet.awesome-markers/2.0.2/leaflet.awesome-markers.js&quot;&gt;&lt;/script&gt;\n",
       "    &lt;link rel=&quot;stylesheet&quot; href=&quot;https://cdn.jsdelivr.net/npm/leaflet@1.9.3/dist/leaflet.css&quot;/&gt;\n",
       "    &lt;link rel=&quot;stylesheet&quot; href=&quot;https://cdn.jsdelivr.net/npm/bootstrap@5.2.2/dist/css/bootstrap.min.css&quot;/&gt;\n",
       "    &lt;link rel=&quot;stylesheet&quot; href=&quot;https://netdna.bootstrapcdn.com/bootstrap/3.0.0/css/bootstrap-glyphicons.css&quot;/&gt;\n",
       "    &lt;link rel=&quot;stylesheet&quot; href=&quot;https://cdn.jsdelivr.net/npm/@fortawesome/fontawesome-free@6.2.0/css/all.min.css&quot;/&gt;\n",
       "    &lt;link rel=&quot;stylesheet&quot; href=&quot;https://cdnjs.cloudflare.com/ajax/libs/Leaflet.awesome-markers/2.0.2/leaflet.awesome-markers.css&quot;/&gt;\n",
       "    &lt;link rel=&quot;stylesheet&quot; href=&quot;https://cdn.jsdelivr.net/gh/python-visualization/folium/folium/templates/leaflet.awesome.rotate.min.css&quot;/&gt;\n",
       "    \n",
       "            &lt;meta name=&quot;viewport&quot; content=&quot;width=device-width,\n",
       "                initial-scale=1.0, maximum-scale=1.0, user-scalable=no&quot; /&gt;\n",
       "            &lt;style&gt;\n",
       "                #map_7857bc581cded6b55477c586f3149228 {\n",
       "                    position: relative;\n",
       "                    width: 100.0%;\n",
       "                    height: 100.0%;\n",
       "                    left: 0.0%;\n",
       "                    top: 0.0%;\n",
       "                }\n",
       "                .leaflet-container { font-size: 1rem; }\n",
       "            &lt;/style&gt;\n",
       "        \n",
       "&lt;/head&gt;\n",
       "&lt;body&gt;\n",
       "    \n",
       "    \n",
       "            &lt;div class=&quot;folium-map&quot; id=&quot;map_7857bc581cded6b55477c586f3149228&quot; &gt;&lt;/div&gt;\n",
       "        \n",
       "&lt;/body&gt;\n",
       "&lt;script&gt;\n",
       "    \n",
       "    \n",
       "            var map_7857bc581cded6b55477c586f3149228 = L.map(\n",
       "                &quot;map_7857bc581cded6b55477c586f3149228&quot;,\n",
       "                {\n",
       "                    center: [39.95078632081301, -105.16354117696737],\n",
       "                    crs: L.CRS.EPSG3857,\n",
       "                    ...{\n",
       "  &quot;zoom&quot;: 10,\n",
       "  &quot;zoomControl&quot;: true,\n",
       "  &quot;preferCanvas&quot;: false,\n",
       "}\n",
       "\n",
       "                }\n",
       "            );\n",
       "\n",
       "            \n",
       "\n",
       "        \n",
       "    \n",
       "            var tile_layer_f158c17cc37bb16ebfd9ec446cab6fc9 = L.tileLayer(\n",
       "                &quot;https://tile.openstreetmap.org/{z}/{x}/{y}.png&quot;,\n",
       "                {\n",
       "  &quot;minZoom&quot;: 0,\n",
       "  &quot;maxZoom&quot;: 19,\n",
       "  &quot;maxNativeZoom&quot;: 19,\n",
       "  &quot;noWrap&quot;: false,\n",
       "  &quot;attribution&quot;: &quot;\\u0026copy; \\u003ca href=\\&quot;https://www.openstreetmap.org/copyright\\&quot;\\u003eOpenStreetMap\\u003c/a\\u003e contributors&quot;,\n",
       "  &quot;subdomains&quot;: &quot;abc&quot;,\n",
       "  &quot;detectRetina&quot;: false,\n",
       "  &quot;tms&quot;: false,\n",
       "  &quot;opacity&quot;: 1,\n",
       "}\n",
       "\n",
       "            );\n",
       "        \n",
       "    \n",
       "            tile_layer_f158c17cc37bb16ebfd9ec446cab6fc9.addTo(map_7857bc581cded6b55477c586f3149228);\n",
       "        \n",
       "    \n",
       "            var marker_b289ec852c1490023eb79e10d5471827 = L.marker(\n",
       "                [39.95078632081301, -105.16354117696737],\n",
       "                {\n",
       "}\n",
       "            ).addTo(map_7857bc581cded6b55477c586f3149228);\n",
       "        \n",
       "    \n",
       "        var popup_892009337e88457b65927c1b71aaf5b8 = L.popup({\n",
       "  &quot;maxWidth&quot;: &quot;100%&quot;,\n",
       "});\n",
       "\n",
       "        \n",
       "            \n",
       "                var html_7e28a81c37b2e5899c12efd9f3c1d391 = $(`&lt;div id=&quot;html_7e28a81c37b2e5899c12efd9f3c1d391&quot; style=&quot;width: 100.0%; height: 100.0%;&quot;&gt;Site&lt;/div&gt;`)[0];\n",
       "                popup_892009337e88457b65927c1b71aaf5b8.setContent(html_7e28a81c37b2e5899c12efd9f3c1d391);\n",
       "            \n",
       "        \n",
       "\n",
       "        marker_b289ec852c1490023eb79e10d5471827.bindPopup(popup_892009337e88457b65927c1b71aaf5b8)\n",
       "        ;\n",
       "\n",
       "        \n",
       "    \n",
       "    \n",
       "            var marker_17ac04e67590ce920e3d119d6ab5d7a4 = L.marker(\n",
       "                [40.017, -105.05],\n",
       "                {\n",
       "}\n",
       "            ).addTo(map_7857bc581cded6b55477c586f3149228);\n",
       "        \n",
       "    \n",
       "            var icon_b6fe7e88eacf980af9e0e517eadcf967 = L.AwesomeMarkers.icon(\n",
       "                {\n",
       "  &quot;markerColor&quot;: &quot;blue&quot;,\n",
       "  &quot;iconColor&quot;: &quot;white&quot;,\n",
       "  &quot;icon&quot;: &quot;cloud&quot;,\n",
       "  &quot;prefix&quot;: &quot;glyphicon&quot;,\n",
       "  &quot;extraClasses&quot;: &quot;fa-rotate-0&quot;,\n",
       "}\n",
       "            );\n",
       "            marker_17ac04e67590ce920e3d119d6ab5d7a4.setIcon(icon_b6fe7e88eacf980af9e0e517eadcf967);\n",
       "        \n",
       "    \n",
       "        var popup_dc57cf9b72e0aec6154f09e303c044d8 = L.popup({\n",
       "  &quot;maxWidth&quot;: &quot;100%&quot;,\n",
       "});\n",
       "\n",
       "        \n",
       "            \n",
       "                var html_80d7c8ab10b323b1bd6358ec2468119b = $(`&lt;div id=&quot;html_80d7c8ab10b323b1bd6358ec2468119b&quot; style=&quot;width: 100.0%; height: 100.0%;&quot;&gt;ERIE MUNICIPAL AIRPORT&lt;/div&gt;`)[0];\n",
       "                popup_dc57cf9b72e0aec6154f09e303c044d8.setContent(html_80d7c8ab10b323b1bd6358ec2468119b);\n",
       "            \n",
       "        \n",
       "\n",
       "        marker_17ac04e67590ce920e3d119d6ab5d7a4.bindPopup(popup_dc57cf9b72e0aec6154f09e303c044d8)\n",
       "        ;\n",
       "\n",
       "        \n",
       "    \n",
       "    \n",
       "            var poly_line_3206d3fd74747b7716c55c84b1ff62ae = L.polyline(\n",
       "                [[39.95078632081301, -105.16354117696737], [40.017, -105.05]],\n",
       "                {&quot;bubblingMouseEvents&quot;: true, &quot;color&quot;: &quot;#3388ff&quot;, &quot;dashArray&quot;: null, &quot;dashOffset&quot;: null, &quot;fill&quot;: false, &quot;fillColor&quot;: &quot;#3388ff&quot;, &quot;fillOpacity&quot;: 0.2, &quot;fillRule&quot;: &quot;evenodd&quot;, &quot;lineCap&quot;: &quot;round&quot;, &quot;lineJoin&quot;: &quot;round&quot;, &quot;noClip&quot;: false, &quot;opacity&quot;: 1.0, &quot;smoothFactor&quot;: 1.0, &quot;stroke&quot;: true, &quot;weight&quot;: 3}\n",
       "            ).addTo(map_7857bc581cded6b55477c586f3149228);\n",
       "        \n",
       "    \n",
       "        var popup_a77fe1f973ca441f5240a6e8538652d1 = L.popup({\n",
       "  &quot;maxWidth&quot;: &quot;100%&quot;,\n",
       "});\n",
       "\n",
       "        \n",
       "            \n",
       "                var html_d0db34e2e1d16618b3e2394400d3c3a9 = $(`&lt;div id=&quot;html_d0db34e2e1d16618b3e2394400d3c3a9&quot; style=&quot;width: 100.0%; height: 100.0%;&quot;&gt;5.0 mi&lt;/div&gt;`)[0];\n",
       "                popup_a77fe1f973ca441f5240a6e8538652d1.setContent(html_d0db34e2e1d16618b3e2394400d3c3a9);\n",
       "            \n",
       "        \n",
       "\n",
       "        poly_line_3206d3fd74747b7716c55c84b1ff62ae.bindPopup(popup_a77fe1f973ca441f5240a6e8538652d1)\n",
       "        ;\n",
       "\n",
       "        \n",
       "    \n",
       "    \n",
       "            var marker_79179c522ab8806f1ee413682afcc662 = L.marker(\n",
       "                [39.9, -105.117],\n",
       "                {\n",
       "}\n",
       "            ).addTo(map_7857bc581cded6b55477c586f3149228);\n",
       "        \n",
       "    \n",
       "            var icon_69665a0493f97ab56404996bca4b7c05 = L.AwesomeMarkers.icon(\n",
       "                {\n",
       "  &quot;markerColor&quot;: &quot;blue&quot;,\n",
       "  &quot;iconColor&quot;: &quot;white&quot;,\n",
       "  &quot;icon&quot;: &quot;cloud&quot;,\n",
       "  &quot;prefix&quot;: &quot;glyphicon&quot;,\n",
       "  &quot;extraClasses&quot;: &quot;fa-rotate-0&quot;,\n",
       "}\n",
       "            );\n",
       "            marker_79179c522ab8806f1ee413682afcc662.setIcon(icon_69665a0493f97ab56404996bca4b7c05);\n",
       "        \n",
       "    \n",
       "        var popup_35d441da0fbca163f4ba9c63b6cd350f = L.popup({\n",
       "  &quot;maxWidth&quot;: &quot;100%&quot;,\n",
       "});\n",
       "\n",
       "        \n",
       "            \n",
       "                var html_e44153d2ffedd0e201ac3c6690c8e57e = $(`&lt;div id=&quot;html_e44153d2ffedd0e201ac3c6690c8e57e&quot; style=&quot;width: 100.0%; height: 100.0%;&quot;&gt;ATCT ROCKY MOUNTAIN METRO&lt;/div&gt;`)[0];\n",
       "                popup_35d441da0fbca163f4ba9c63b6cd350f.setContent(html_e44153d2ffedd0e201ac3c6690c8e57e);\n",
       "            \n",
       "        \n",
       "\n",
       "        marker_79179c522ab8806f1ee413682afcc662.bindPopup(popup_35d441da0fbca163f4ba9c63b6cd350f)\n",
       "        ;\n",
       "\n",
       "        \n",
       "    \n",
       "    \n",
       "            var poly_line_d948eeea7752f5155066414bb83fcf86 = L.polyline(\n",
       "                [[39.95078632081301, -105.16354117696737], [39.9, -105.117]],\n",
       "                {&quot;bubblingMouseEvents&quot;: true, &quot;color&quot;: &quot;#3388ff&quot;, &quot;dashArray&quot;: null, &quot;dashOffset&quot;: null, &quot;fill&quot;: false, &quot;fillColor&quot;: &quot;#3388ff&quot;, &quot;fillOpacity&quot;: 0.2, &quot;fillRule&quot;: &quot;evenodd&quot;, &quot;lineCap&quot;: &quot;round&quot;, &quot;lineJoin&quot;: &quot;round&quot;, &quot;noClip&quot;: false, &quot;opacity&quot;: 1.0, &quot;smoothFactor&quot;: 1.0, &quot;stroke&quot;: true, &quot;weight&quot;: 3}\n",
       "            ).addTo(map_7857bc581cded6b55477c586f3149228);\n",
       "        \n",
       "    \n",
       "        var popup_6dff8d33fdf0f53c6de9ba92b0b1ff0b = L.popup({\n",
       "  &quot;maxWidth&quot;: &quot;100%&quot;,\n",
       "});\n",
       "\n",
       "        \n",
       "            \n",
       "                var html_89a5640df2d0de3f0eef5c32707da94c = $(`&lt;div id=&quot;html_89a5640df2d0de3f0eef5c32707da94c&quot; style=&quot;width: 100.0%; height: 100.0%;&quot;&gt;5.6 mi&lt;/div&gt;`)[0];\n",
       "                popup_6dff8d33fdf0f53c6de9ba92b0b1ff0b.setContent(html_89a5640df2d0de3f0eef5c32707da94c);\n",
       "            \n",
       "        \n",
       "\n",
       "        poly_line_d948eeea7752f5155066414bb83fcf86.bindPopup(popup_6dff8d33fdf0f53c6de9ba92b0b1ff0b)\n",
       "        ;\n",
       "\n",
       "        \n",
       "    \n",
       "    \n",
       "            var marker_883d075523e73d5f6ae94d88638030e0 = L.marker(\n",
       "                [40.033, -105.217],\n",
       "                {\n",
       "}\n",
       "            ).addTo(map_7857bc581cded6b55477c586f3149228);\n",
       "        \n",
       "    \n",
       "            var icon_89fb3bb7c24f812ddc734a9c4b3041b9 = L.AwesomeMarkers.icon(\n",
       "                {\n",
       "  &quot;markerColor&quot;: &quot;blue&quot;,\n",
       "  &quot;iconColor&quot;: &quot;white&quot;,\n",
       "  &quot;icon&quot;: &quot;cloud&quot;,\n",
       "  &quot;prefix&quot;: &quot;glyphicon&quot;,\n",
       "  &quot;extraClasses&quot;: &quot;fa-rotate-0&quot;,\n",
       "}\n",
       "            );\n",
       "            marker_883d075523e73d5f6ae94d88638030e0.setIcon(icon_89fb3bb7c24f812ddc734a9c4b3041b9);\n",
       "        \n",
       "    \n",
       "        var popup_4fb76d67cf99f734afb1ff2ecad6afad = L.popup({\n",
       "  &quot;maxWidth&quot;: &quot;100%&quot;,\n",
       "});\n",
       "\n",
       "        \n",
       "            \n",
       "                var html_ea8273f1504f27c029d53f3be53eb1df = $(`&lt;div id=&quot;html_ea8273f1504f27c029d53f3be53eb1df&quot; style=&quot;width: 100.0%; height: 100.0%;&quot;&gt;BOULDER MUNICIPAL AIRPORT&lt;/div&gt;`)[0];\n",
       "                popup_4fb76d67cf99f734afb1ff2ecad6afad.setContent(html_ea8273f1504f27c029d53f3be53eb1df);\n",
       "            \n",
       "        \n",
       "\n",
       "        marker_883d075523e73d5f6ae94d88638030e0.bindPopup(popup_4fb76d67cf99f734afb1ff2ecad6afad)\n",
       "        ;\n",
       "\n",
       "        \n",
       "    \n",
       "    \n",
       "            var poly_line_bf52d9088072df466143824ad53df40e = L.polyline(\n",
       "                [[39.95078632081301, -105.16354117696737], [40.033, -105.217]],\n",
       "                {&quot;bubblingMouseEvents&quot;: true, &quot;color&quot;: &quot;#3388ff&quot;, &quot;dashArray&quot;: null, &quot;dashOffset&quot;: null, &quot;fill&quot;: false, &quot;fillColor&quot;: &quot;#3388ff&quot;, &quot;fillOpacity&quot;: 0.2, &quot;fillRule&quot;: &quot;evenodd&quot;, &quot;lineCap&quot;: &quot;round&quot;, &quot;lineJoin&quot;: &quot;round&quot;, &quot;noClip&quot;: false, &quot;opacity&quot;: 1.0, &quot;smoothFactor&quot;: 1.0, &quot;stroke&quot;: true, &quot;weight&quot;: 3}\n",
       "            ).addTo(map_7857bc581cded6b55477c586f3149228);\n",
       "        \n",
       "    \n",
       "        var popup_1f9e6a729fb4e82ebfdb9e9f119fdc5e = L.popup({\n",
       "  &quot;maxWidth&quot;: &quot;100%&quot;,\n",
       "});\n",
       "\n",
       "        \n",
       "            \n",
       "                var html_1846b7d3bb2a60b5e2020141f3bb49a2 = $(`&lt;div id=&quot;html_1846b7d3bb2a60b5e2020141f3bb49a2&quot; style=&quot;width: 100.0%; height: 100.0%;&quot;&gt;5.9 mi&lt;/div&gt;`)[0];\n",
       "                popup_1f9e6a729fb4e82ebfdb9e9f119fdc5e.setContent(html_1846b7d3bb2a60b5e2020141f3bb49a2);\n",
       "            \n",
       "        \n",
       "\n",
       "        poly_line_bf52d9088072df466143824ad53df40e.bindPopup(popup_1f9e6a729fb4e82ebfdb9e9f119fdc5e)\n",
       "        ;\n",
       "\n",
       "        \n",
       "    \n",
       "&lt;/script&gt;\n",
       "&lt;/html&gt;\" style=\"position:absolute;width:100%;height:100%;left:0;top:0;border:none !important;\" allowfullscreen webkitallowfullscreen mozallowfullscreen></iframe></div></div>"
      ],
      "text/plain": [
       "<folium.folium.Map at 0x7f2ab0702490>"
      ]
     },
     "execution_count": 9,
     "metadata": {},
     "output_type": "execute_result"
    }
   ],
   "source": [
    "riweather.plot_stations(my_lat, my_lon, ranked_stations, distance_unit=\"mi\")"
   ]
  },
  {
   "cell_type": "markdown",
   "metadata": {},
   "source": [
    "## Fetching weather data"
   ]
  },
  {
   "cell_type": "markdown",
   "metadata": {
    "collapsed": false,
    "jupyter": {
     "outputs_hidden": false
    }
   },
   "source": [
    "Let's see how complete we can expect the data to be when we pull it by looking at the [quality report][riweather.Station.quality_report]."
   ]
  },
  {
   "cell_type": "code",
   "execution_count": 10,
   "metadata": {
    "collapsed": false,
    "jupyter": {
     "outputs_hidden": false
    }
   },
   "outputs": [
    {
     "data": {
      "text/html": [
       "<div>\n",
       "<style scoped>\n",
       "    .dataframe tbody tr th:only-of-type {\n",
       "        vertical-align: middle;\n",
       "    }\n",
       "\n",
       "    .dataframe tbody tr th {\n",
       "        vertical-align: top;\n",
       "    }\n",
       "\n",
       "    .dataframe thead th {\n",
       "        text-align: right;\n",
       "    }\n",
       "</style>\n",
       "<table border=\"1\" class=\"dataframe\">\n",
       "  <thead>\n",
       "    <tr style=\"text-align: right;\">\n",
       "      <th></th>\n",
       "      <th>usaf_id</th>\n",
       "      <th>wban_id</th>\n",
       "      <th>year</th>\n",
       "      <th>quality</th>\n",
       "      <th>jan</th>\n",
       "      <th>feb</th>\n",
       "      <th>mar</th>\n",
       "      <th>apr</th>\n",
       "      <th>may</th>\n",
       "      <th>jun</th>\n",
       "      <th>jul</th>\n",
       "      <th>aug</th>\n",
       "      <th>sep</th>\n",
       "      <th>oct</th>\n",
       "      <th>nov</th>\n",
       "      <th>dec</th>\n",
       "      <th>count</th>\n",
       "      <th>n_zero_months</th>\n",
       "    </tr>\n",
       "  </thead>\n",
       "  <tbody>\n",
       "    <tr>\n",
       "      <th>0</th>\n",
       "      <td>720534</td>\n",
       "      <td>00161</td>\n",
       "      <td>2014</td>\n",
       "      <td>low</td>\n",
       "      <td>0</td>\n",
       "      <td>0</td>\n",
       "      <td>0</td>\n",
       "      <td>0</td>\n",
       "      <td>0</td>\n",
       "      <td>0</td>\n",
       "      <td>2191</td>\n",
       "      <td>2172</td>\n",
       "      <td>1869</td>\n",
       "      <td>2240</td>\n",
       "      <td>2160</td>\n",
       "      <td>2174</td>\n",
       "      <td>12806</td>\n",
       "      <td>6</td>\n",
       "    </tr>\n",
       "    <tr>\n",
       "      <th>1</th>\n",
       "      <td>720534</td>\n",
       "      <td>00161</td>\n",
       "      <td>2015</td>\n",
       "      <td>high</td>\n",
       "      <td>2232</td>\n",
       "      <td>1981</td>\n",
       "      <td>2226</td>\n",
       "      <td>2117</td>\n",
       "      <td>2244</td>\n",
       "      <td>2035</td>\n",
       "      <td>2232</td>\n",
       "      <td>2233</td>\n",
       "      <td>2084</td>\n",
       "      <td>2217</td>\n",
       "      <td>2151</td>\n",
       "      <td>2232</td>\n",
       "      <td>25984</td>\n",
       "      <td>0</td>\n",
       "    </tr>\n",
       "    <tr>\n",
       "      <th>2</th>\n",
       "      <td>720534</td>\n",
       "      <td>00161</td>\n",
       "      <td>2016</td>\n",
       "      <td>high</td>\n",
       "      <td>2240</td>\n",
       "      <td>2094</td>\n",
       "      <td>2239</td>\n",
       "      <td>2168</td>\n",
       "      <td>2255</td>\n",
       "      <td>2147</td>\n",
       "      <td>2203</td>\n",
       "      <td>2129</td>\n",
       "      <td>2173</td>\n",
       "      <td>2211</td>\n",
       "      <td>2164</td>\n",
       "      <td>2150</td>\n",
       "      <td>26173</td>\n",
       "      <td>0</td>\n",
       "    </tr>\n",
       "    <tr>\n",
       "      <th>3</th>\n",
       "      <td>720534</td>\n",
       "      <td>00161</td>\n",
       "      <td>2017</td>\n",
       "      <td>high</td>\n",
       "      <td>2143</td>\n",
       "      <td>1961</td>\n",
       "      <td>2213</td>\n",
       "      <td>2163</td>\n",
       "      <td>2061</td>\n",
       "      <td>2167</td>\n",
       "      <td>2204</td>\n",
       "      <td>2095</td>\n",
       "      <td>2172</td>\n",
       "      <td>2198</td>\n",
       "      <td>2888</td>\n",
       "      <td>2242</td>\n",
       "      <td>26507</td>\n",
       "      <td>0</td>\n",
       "    </tr>\n",
       "    <tr>\n",
       "      <th>4</th>\n",
       "      <td>720534</td>\n",
       "      <td>00161</td>\n",
       "      <td>2018</td>\n",
       "      <td>high</td>\n",
       "      <td>2219</td>\n",
       "      <td>2033</td>\n",
       "      <td>2272</td>\n",
       "      <td>2198</td>\n",
       "      <td>2523</td>\n",
       "      <td>2191</td>\n",
       "      <td>2292</td>\n",
       "      <td>2388</td>\n",
       "      <td>2125</td>\n",
       "      <td>2298</td>\n",
       "      <td>2217</td>\n",
       "      <td>2284</td>\n",
       "      <td>27040</td>\n",
       "      <td>0</td>\n",
       "    </tr>\n",
       "    <tr>\n",
       "      <th>5</th>\n",
       "      <td>720534</td>\n",
       "      <td>00161</td>\n",
       "      <td>2019</td>\n",
       "      <td>high</td>\n",
       "      <td>2279</td>\n",
       "      <td>2084</td>\n",
       "      <td>2255</td>\n",
       "      <td>2286</td>\n",
       "      <td>2432</td>\n",
       "      <td>2288</td>\n",
       "      <td>1780</td>\n",
       "      <td>1810</td>\n",
       "      <td>2088</td>\n",
       "      <td>2226</td>\n",
       "      <td>2169</td>\n",
       "      <td>2239</td>\n",
       "      <td>25936</td>\n",
       "      <td>0</td>\n",
       "    </tr>\n",
       "    <tr>\n",
       "      <th>6</th>\n",
       "      <td>720534</td>\n",
       "      <td>00161</td>\n",
       "      <td>2020</td>\n",
       "      <td>high</td>\n",
       "      <td>2056</td>\n",
       "      <td>2093</td>\n",
       "      <td>2234</td>\n",
       "      <td>2167</td>\n",
       "      <td>2232</td>\n",
       "      <td>2145</td>\n",
       "      <td>2096</td>\n",
       "      <td>2026</td>\n",
       "      <td>2161</td>\n",
       "      <td>2187</td>\n",
       "      <td>2160</td>\n",
       "      <td>2202</td>\n",
       "      <td>25759</td>\n",
       "      <td>0</td>\n",
       "    </tr>\n",
       "    <tr>\n",
       "      <th>7</th>\n",
       "      <td>720534</td>\n",
       "      <td>00161</td>\n",
       "      <td>2021</td>\n",
       "      <td>high</td>\n",
       "      <td>2227</td>\n",
       "      <td>2027</td>\n",
       "      <td>2245</td>\n",
       "      <td>2159</td>\n",
       "      <td>2232</td>\n",
       "      <td>2174</td>\n",
       "      <td>2168</td>\n",
       "      <td>2243</td>\n",
       "      <td>2098</td>\n",
       "      <td>2235</td>\n",
       "      <td>2145</td>\n",
       "      <td>2208</td>\n",
       "      <td>26161</td>\n",
       "      <td>0</td>\n",
       "    </tr>\n",
       "    <tr>\n",
       "      <th>8</th>\n",
       "      <td>720534</td>\n",
       "      <td>00161</td>\n",
       "      <td>2022</td>\n",
       "      <td>high</td>\n",
       "      <td>2237</td>\n",
       "      <td>2020</td>\n",
       "      <td>2152</td>\n",
       "      <td>2049</td>\n",
       "      <td>2232</td>\n",
       "      <td>2168</td>\n",
       "      <td>2250</td>\n",
       "      <td>2241</td>\n",
       "      <td>2160</td>\n",
       "      <td>2231</td>\n",
       "      <td>2169</td>\n",
       "      <td>2187</td>\n",
       "      <td>26096</td>\n",
       "      <td>0</td>\n",
       "    </tr>\n",
       "    <tr>\n",
       "      <th>9</th>\n",
       "      <td>720534</td>\n",
       "      <td>00161</td>\n",
       "      <td>2023</td>\n",
       "      <td>high</td>\n",
       "      <td>2246</td>\n",
       "      <td>2005</td>\n",
       "      <td>2245</td>\n",
       "      <td>2139</td>\n",
       "      <td>2250</td>\n",
       "      <td>2183</td>\n",
       "      <td>2253</td>\n",
       "      <td>2191</td>\n",
       "      <td>2160</td>\n",
       "      <td>2242</td>\n",
       "      <td>2138</td>\n",
       "      <td>2215</td>\n",
       "      <td>26267</td>\n",
       "      <td>0</td>\n",
       "    </tr>\n",
       "    <tr>\n",
       "      <th>10</th>\n",
       "      <td>720534</td>\n",
       "      <td>00161</td>\n",
       "      <td>2024</td>\n",
       "      <td>high</td>\n",
       "      <td>2238</td>\n",
       "      <td>1920</td>\n",
       "      <td>2208</td>\n",
       "      <td>2166</td>\n",
       "      <td>2218</td>\n",
       "      <td>2165</td>\n",
       "      <td>2236</td>\n",
       "      <td>2193</td>\n",
       "      <td>2153</td>\n",
       "      <td>2220</td>\n",
       "      <td>1744</td>\n",
       "      <td>2200</td>\n",
       "      <td>25661</td>\n",
       "      <td>0</td>\n",
       "    </tr>\n",
       "    <tr>\n",
       "      <th>11</th>\n",
       "      <td>720534</td>\n",
       "      <td>00161</td>\n",
       "      <td>2025</td>\n",
       "      <td>high</td>\n",
       "      <td>1915</td>\n",
       "      <td>0</td>\n",
       "      <td>0</td>\n",
       "      <td>0</td>\n",
       "      <td>0</td>\n",
       "      <td>0</td>\n",
       "      <td>0</td>\n",
       "      <td>0</td>\n",
       "      <td>0</td>\n",
       "      <td>0</td>\n",
       "      <td>0</td>\n",
       "      <td>0</td>\n",
       "      <td>1915</td>\n",
       "      <td>0</td>\n",
       "    </tr>\n",
       "  </tbody>\n",
       "</table>\n",
       "</div>"
      ],
      "text/plain": [
       "   usaf_id wban_id  year quality   jan   feb   mar   apr   may   jun   jul  \\\n",
       "0   720534   00161  2014     low     0     0     0     0     0     0  2191   \n",
       "1   720534   00161  2015    high  2232  1981  2226  2117  2244  2035  2232   \n",
       "2   720534   00161  2016    high  2240  2094  2239  2168  2255  2147  2203   \n",
       "3   720534   00161  2017    high  2143  1961  2213  2163  2061  2167  2204   \n",
       "4   720534   00161  2018    high  2219  2033  2272  2198  2523  2191  2292   \n",
       "5   720534   00161  2019    high  2279  2084  2255  2286  2432  2288  1780   \n",
       "6   720534   00161  2020    high  2056  2093  2234  2167  2232  2145  2096   \n",
       "7   720534   00161  2021    high  2227  2027  2245  2159  2232  2174  2168   \n",
       "8   720534   00161  2022    high  2237  2020  2152  2049  2232  2168  2250   \n",
       "9   720534   00161  2023    high  2246  2005  2245  2139  2250  2183  2253   \n",
       "10  720534   00161  2024    high  2238  1920  2208  2166  2218  2165  2236   \n",
       "11  720534   00161  2025    high  1915     0     0     0     0     0     0   \n",
       "\n",
       "     aug   sep   oct   nov   dec  count  n_zero_months  \n",
       "0   2172  1869  2240  2160  2174  12806              6  \n",
       "1   2233  2084  2217  2151  2232  25984              0  \n",
       "2   2129  2173  2211  2164  2150  26173              0  \n",
       "3   2095  2172  2198  2888  2242  26507              0  \n",
       "4   2388  2125  2298  2217  2284  27040              0  \n",
       "5   1810  2088  2226  2169  2239  25936              0  \n",
       "6   2026  2161  2187  2160  2202  25759              0  \n",
       "7   2243  2098  2235  2145  2208  26161              0  \n",
       "8   2241  2160  2231  2169  2187  26096              0  \n",
       "9   2191  2160  2242  2138  2215  26267              0  \n",
       "10  2193  2153  2220  1744  2200  25661              0  \n",
       "11     0     0     0     0     0   1915              0  "
      ]
     },
     "execution_count": 10,
     "metadata": {},
     "output_type": "execute_result"
    }
   ],
   "source": [
    "station.quality_report()"
   ]
  },
  {
   "cell_type": "markdown",
   "metadata": {
    "collapsed": false,
    "jupyter": {
     "outputs_hidden": false
    }
   },
   "source": [
    "The data for 2024 is `\"high\"` quality, with more than 2,000 observations in each month and no months that are missing. Assuming they are evenly spaced, that corresponds to one observation roughly every 20 minutes."
   ]
  },
  {
   "cell_type": "markdown",
   "metadata": {
    "collapsed": false,
    "jupyter": {
     "outputs_hidden": false
    }
   },
   "source": [
    "Now we can use [`riweather.Station.fetch_data`][] to get weather data. We need air temperatures in Fahrenheit for 2024, hour-ending to align with a set of electricity meter readings, in the US Mountain time zone."
   ]
  },
  {
   "cell_type": "code",
   "execution_count": 34,
   "metadata": {
    "collapsed": false,
    "jupyter": {
     "outputs_hidden": false
    }
   },
   "outputs": [
    {
     "data": {
      "text/html": [
       "<div>\n",
       "<style scoped>\n",
       "    .dataframe tbody tr th:only-of-type {\n",
       "        vertical-align: middle;\n",
       "    }\n",
       "\n",
       "    .dataframe tbody tr th {\n",
       "        vertical-align: top;\n",
       "    }\n",
       "\n",
       "    .dataframe thead th {\n",
       "        text-align: right;\n",
       "    }\n",
       "</style>\n",
       "<table border=\"1\" class=\"dataframe\">\n",
       "  <thead>\n",
       "    <tr style=\"text-align: right;\">\n",
       "      <th></th>\n",
       "      <th>air_temperature.temperature_f</th>\n",
       "    </tr>\n",
       "  </thead>\n",
       "  <tbody>\n",
       "    <tr>\n",
       "      <th>2023-12-31 18:00:00-07:00</th>\n",
       "      <td>33.176848</td>\n",
       "    </tr>\n",
       "    <tr>\n",
       "      <th>2023-12-31 19:00:00-07:00</th>\n",
       "      <td>29.726000</td>\n",
       "    </tr>\n",
       "    <tr>\n",
       "      <th>2023-12-31 20:00:00-07:00</th>\n",
       "      <td>25.415750</td>\n",
       "    </tr>\n",
       "    <tr>\n",
       "      <th>2023-12-31 21:00:00-07:00</th>\n",
       "      <td>22.736750</td>\n",
       "    </tr>\n",
       "    <tr>\n",
       "      <th>2023-12-31 22:00:00-07:00</th>\n",
       "      <td>20.876750</td>\n",
       "    </tr>\n",
       "    <tr>\n",
       "      <th>...</th>\n",
       "      <td>...</td>\n",
       "    </tr>\n",
       "    <tr>\n",
       "      <th>2024-12-31 13:00:00-07:00</th>\n",
       "      <td>34.328000</td>\n",
       "    </tr>\n",
       "    <tr>\n",
       "      <th>2024-12-31 14:00:00-07:00</th>\n",
       "      <td>35.445500</td>\n",
       "    </tr>\n",
       "    <tr>\n",
       "      <th>2024-12-31 15:00:00-07:00</th>\n",
       "      <td>35.640500</td>\n",
       "    </tr>\n",
       "    <tr>\n",
       "      <th>2024-12-31 16:00:00-07:00</th>\n",
       "      <td>34.249250</td>\n",
       "    </tr>\n",
       "    <tr>\n",
       "      <th>2024-12-31 17:00:00-07:00</th>\n",
       "      <td>31.057455</td>\n",
       "    </tr>\n",
       "  </tbody>\n",
       "</table>\n",
       "<p>8784 rows × 1 columns</p>\n",
       "</div>"
      ],
      "text/plain": [
       "                           air_temperature.temperature_f\n",
       "2023-12-31 18:00:00-07:00                      33.176848\n",
       "2023-12-31 19:00:00-07:00                      29.726000\n",
       "2023-12-31 20:00:00-07:00                      25.415750\n",
       "2023-12-31 21:00:00-07:00                      22.736750\n",
       "2023-12-31 22:00:00-07:00                      20.876750\n",
       "...                                                  ...\n",
       "2024-12-31 13:00:00-07:00                      34.328000\n",
       "2024-12-31 14:00:00-07:00                      35.445500\n",
       "2024-12-31 15:00:00-07:00                      35.640500\n",
       "2024-12-31 16:00:00-07:00                      34.249250\n",
       "2024-12-31 17:00:00-07:00                      31.057455\n",
       "\n",
       "[8784 rows x 1 columns]"
      ]
     },
     "execution_count": 34,
     "metadata": {},
     "output_type": "execute_result"
    }
   ],
   "source": [
    "ts = station.fetch_data(2024, datum=\"air_temperature\", period=\"h\", rollup=\"ending\", tz=\"US/Mountain\", temp_scale=\"F\")\n",
    "ts"
   ]
  },
  {
   "cell_type": "code",
   "execution_count": 41,
   "metadata": {
    "collapsed": false,
    "jupyter": {
     "outputs_hidden": false
    }
   },
   "outputs": [
    {
     "data": {
      "image/png": "[encoded data removed]",
      "text/plain": [
       "<Figure size 640x480 with 1 Axes>"
      ]
     },
     "metadata": {},
     "output_type": "display_data"
    }
   ],
   "source": [
    "ts.plot()\n",
    "plt.show()"
   ]
  },
  {
   "cell_type": "markdown",
   "metadata": {},
   "source": [
    "Other data points may be available as well, depending on the weather station. For example, we can pull wind speed (in meters per second) as well:"
   ]
  },
  {
   "cell_type": "code",
   "execution_count": 42,
   "metadata": {},
   "outputs": [
    {
     "data": {
      "image/png": "[encoded data removed]",
      "text/plain": [
       "<Figure size 640x480 with 1 Axes>"
      ]
     },
     "metadata": {},
     "output_type": "display_data"
    }
   ],
   "source": [
    "ts = station.fetch_data(2024, datum=\"wind\", period=\"h\", rollup=\"ending\", tz=\"US/Mountain\")\n",
    "ts.plot()\n",
    "plt.show()"
   ]
  }
 ],
 "metadata": {
  "kernelspec": {
   "display_name": "/home/jensley/projects/riweather",
   "language": "python",
   "name": "riweather"
  },
  "language_info": {
   "codemirror_mode": {
    "name": "ipython",
    "version": 3
   },
   "file_extension": ".py",
   "mimetype": "text/x-python",
   "name": "python",
   "nbconvert_exporter": "python",
   "pygments_lexer": "ipython3",
   "version": "3.11.6"
  }
 },
 "nbformat": 4,
 "nbformat_minor": 4
}
