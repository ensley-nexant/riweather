{
 "cells": [
  {
   "cell_type": "markdown",
   "metadata": {},
   "source": [
    "# Data Resampling: An Introduction"
   ]
  },
  {
   "cell_type": "markdown",
   "metadata": {},
   "source": [
    "Often, the reason we need temperature data is to explore the relationship between weather and energy use for a particular building, home, or collection of homes. To quantify this relationship, we need both temperature and energy observations to be on the same time scale - whether that is hourly, half-hourly, etc. Unfortunately, however, readings from weather stations aren't always available at the particular time scale of your meter readings, and indeed, they aren't even necessarily at regular intervals at all (the NOAA Integrated Surface Dataset has some stations that sometimes emit data every two minutes and sometimes every twenty minutes, for example).\n",
    "\n",
    "`riweather` has some tools to ease the process of aligning temperature data to a certain time scale. It builds on top of the [resampling functionality of Pandas](https://pandas.pydata.org/pandas-docs/stable/user_guide/timeseries.html#resampling). This tutorial illustrates the different options at your disposal, so that you can handle the alignment exactly how you need to."
   ]
  },
  {
   "cell_type": "code",
   "execution_count": 1,
   "metadata": {},
   "source": [
    "import matplotlib.pyplot as plt\n",
    "import pandas as pd\n",
    "import riweather\n",
    "\n",
    "%matplotlib inline"
   ],
   "outputs": []
  },
  {
   "cell_type": "markdown",
   "metadata": {},
   "source": [
    "## Resampling strategies on a toy example\n",
    "\n",
    "Suppose we have the following ten weather observations. They occur twenty minutes apart, at 15, 35, and 55 minutes past the hour."
   ]
  },
  {
   "cell_type": "code",
   "execution_count": 2,
   "metadata": {},
   "source": [
    "temps = pd.Series(\n",
    "    [0, 9, 3, 1, 2, 5, 8, 6, 4, 7],\n",
    "    index=pd.date_range(\"2023-01-01 00:15\", periods=10, freq=\"20T\"),\n",
    "    name=\"tempC\",\n",
    ")"
   ],
   "outputs": []
  },
  {
   "cell_type": "code",
   "execution_count": 3,
   "metadata": {},
   "source": [
    "temps"
   ],
   "outputs": []
  },
  {
   "cell_type": "code",
   "execution_count": 4,
   "metadata": {},
   "source": [
    "def plot_temps(datasets, labels, raw_idx=0):\n",
    "    import matplotlib.dates as mdates\n",
    "\n",
    "    fig, ax = plt.subplots(figsize=(12, 4))\n",
    "    fig.suptitle(\"Temperature resampling\")\n",
    "    for i, (d, l) in enumerate(zip(datasets, labels, strict=True)):\n",
    "        if i == raw_idx:\n",
    "            ax.plot(d, \"D\", color=\"black\", alpha=0.2, label=l)\n",
    "        else:\n",
    "            ax.plot(d, \"x-\", label=l)\n",
    "    ax.xaxis.set_major_formatter(mdates.DateFormatter(\"%I:%M %p\"))\n",
    "    ax.set_ylabel(\"Temperature (C)\")\n",
    "    _ = ax.legend()\n",
    "    plt.show()"
   ],
   "outputs": []
  },
  {
   "cell_type": "code",
   "execution_count": 5,
   "metadata": {},
   "source": [
    "datasets = [temps]\n",
    "labels = [\"Actual observations\"]"
   ],
   "outputs": []
  },
  {
   "cell_type": "code",
   "execution_count": 6,
   "metadata": {},
   "source": [
    "plot_temps(datasets, labels)"
   ],
   "outputs": []
  },
  {
   "cell_type": "markdown",
   "metadata": {},
   "source": [
    "### The four `rollup_*()` functions"
   ]
  },
  {
   "cell_type": "markdown",
   "metadata": {},
   "source": [
    "We need to align these temperatures to a dataset of smart meter readings that occur at the top of every hour. How can we do this?\n",
    "\n",
    "One option is to take the average of all readings over the previous hour. So, for 1 AM, the previous hour's readings were 0, 9, and 3 degrees, and the average is 4. With `riweather` we can do this with `rollup_ending()`. The word \"ending\" in the name means that we are calculating \"hour-ending\" values.\n",
    "\n",
    "Because meter readings are typically collected as hour-ending values as well, `rollup_ending()` is the default behavior of the all-in-one fetching and resampling method `Station.fetch_temp_data()`."
   ]
  },
  {
   "cell_type": "code",
   "execution_count": 7,
   "metadata": {},
   "source": [
    "temps_ending = riweather.rollup_ending(temps, \"H\", upsample_first=False)\n",
    "temps_ending"
   ],
   "outputs": []
  },
  {
   "cell_type": "code",
   "execution_count": 8,
   "metadata": {},
   "source": [
    "datasets.append(temps_ending)\n",
    "labels.append(\"Hourly resampling, hour-ending\")"
   ],
   "outputs": []
  },
  {
   "cell_type": "code",
   "execution_count": 9,
   "metadata": {},
   "source": [
    "plot_temps(datasets, labels)"
   ],
   "outputs": []
  },
  {
   "cell_type": "markdown",
   "metadata": {},
   "source": [
    "You can get hour-_starting_ values instead with `rollup_starting()`. Notice that the first three readings are still averaged together, but the timestamp assigned to the result is midnight (the start of the hour), instead of 1 AM."
   ]
  },
  {
   "cell_type": "code",
   "execution_count": 10,
   "metadata": {},
   "source": [
    "temps_starting = riweather.rollup_starting(temps, \"H\", upsample_first=False)\n",
    "temps_starting"
   ],
   "outputs": []
  },
  {
   "cell_type": "code",
   "execution_count": 11,
   "metadata": {},
   "source": [
    "datasets.append(temps_starting)\n",
    "labels.append(\"Hourly resampling, hour-starting\")"
   ],
   "outputs": []
  },
  {
   "cell_type": "code",
   "execution_count": 12,
   "metadata": {},
   "source": [
    "plot_temps(datasets, labels)"
   ],
   "outputs": []
  },
  {
   "cell_type": "markdown",
   "metadata": {},
   "source": [
    "Instead of hour-ending or hour-starting values, you might want the range over which the average is taken to extend both forward and backward. Using `rollup_midpoint()`, the value at 1 AM will be the average over all data between 12:30 and 1:30 AM."
   ]
  },
  {
   "cell_type": "code",
   "execution_count": 13,
   "metadata": {},
   "source": [
    "temps_midpoint = riweather.rollup_midpoint(temps, \"H\", upsample_first=False)\n",
    "temps_midpoint"
   ],
   "outputs": []
  },
  {
   "cell_type": "code",
   "execution_count": 14,
   "metadata": {},
   "source": [
    "datasets.append(temps_midpoint)\n",
    "labels.append(\"Hourly resampling, midpoint\")"
   ],
   "outputs": []
  },
  {
   "cell_type": "code",
   "execution_count": 15,
   "metadata": {},
   "source": [
    "plot_temps(datasets, labels)"
   ],
   "outputs": []
  },
  {
   "cell_type": "markdown",
   "metadata": {},
   "source": [
    "Finally, `rollup_instant()` does not do any averaging at all. Instead, the value for a certain hour will simply be the first actual data point during that hour."
   ]
  },
  {
   "cell_type": "code",
   "execution_count": 16,
   "metadata": {},
   "source": [
    "temps_instant = riweather.rollup_instant(temps, \"H\", upsample_first=False)\n",
    "temps_instant"
   ],
   "outputs": []
  },
  {
   "cell_type": "code",
   "execution_count": 17,
   "metadata": {},
   "source": [
    "datasets.append(temps_instant)\n",
    "labels.append(\"Hourly resampling, instant\")"
   ],
   "outputs": []
  },
  {
   "cell_type": "code",
   "execution_count": 18,
   "metadata": {},
   "source": [
    "plot_temps(datasets, labels)"
   ],
   "outputs": []
  },
  {
   "cell_type": "markdown",
   "metadata": {},
   "source": [
    "### Going beyond hourly intervals\n",
    "\n",
    "Every example of the `rolling_*()` functions so far has specified `\"H\"` for the second argument. This is a [frequency string](https://pandas.pydata.org/pandas-docs/stable/user_guide/timeseries.html#dateoffset-objects) from Pandas. You can pass any frequency string to get data resampled at different intervals - see the link for more information on how to use the strings.\n",
    "\n",
    "As another example, we could resample our data to get half-hourly intervals:"
   ]
  },
  {
   "cell_type": "code",
   "execution_count": 19,
   "metadata": {},
   "source": [
    "temps_30min_starting = riweather.rollup_starting(temps, \"30T\", upsample_first=False)\n",
    "temps_30min_ending = riweather.rollup_ending(temps, \"30T\", upsample_first=False)\n",
    "\n",
    "datasets = [\n",
    "    temps,\n",
    "    temps_30min_starting,\n",
    "    temps_30min_ending,\n",
    "]\n",
    "\n",
    "labels = [\n",
    "    \"Actual observations\",\n",
    "    \"Half-hourly resampling, hour-starting\",\n",
    "    \"Half-hourly resampling, hour-ending\",\n",
    "]\n",
    "\n",
    "plot_temps(datasets, labels)"
   ],
   "outputs": []
  },
  {
   "cell_type": "markdown",
   "metadata": {},
   "source": [
    "### Upsampling before resampling\n",
    "\n",
    "So far, we have used all of the rollup functions with the parameter `upsample_first=False`. With this option set, the resampling is done based on the raw values and the raw values only - so, for example, the hour-ending rollup value at 1 AM is precisely the average of all raw values that occurred between 12 AM and 1 AM.\n",
    "\n",
    "This isn't always the most accurate way to arrive at a single representative value for the entire hour (or half-hour, or whatever the desired time interval is). Consider the following temperatures:"
   ]
  },
  {
   "cell_type": "code",
   "execution_count": 20,
   "metadata": {},
   "source": [
    "temps2 = pd.Series(\n",
    "    [1, 2, 10],\n",
    "    index=pd.date_range(\"2023-01-01 00:01\", \"2023-01-01 01:05\", freq=\"32T\"),\n",
    ")\n",
    "temps2"
   ],
   "outputs": []
  },
  {
   "cell_type": "markdown",
   "metadata": {},
   "source": [
    "There are two observations between 12 AM and 1 AM: 1 degree at 12:01 and 2 degrees at 12:33. If we were to simply take the average in our hour-ending resampling procedure, we would end up with a value of 1.5 degrees at 1 AM."
   ]
  },
  {
   "cell_type": "code",
   "execution_count": 21,
   "metadata": {},
   "source": [
    "riweather.rollup_ending(temps2, \"H\", upsample_first=False)"
   ],
   "outputs": []
  },
  {
   "cell_type": "markdown",
   "metadata": {},
   "source": [
    "However, we can see that the temperature rose to 10 degrees by 1:05, so it's safe to say there were some higher temperatures in the second half of the 12 AM hour that were not captured by averaging the two observations we had available, and so 1.5 degrees is likely an underestimate of the average temperature over that period.\n",
    "\n",
    "We can address this problem by first _upsampling_ the observations before resampling them. Upsampling means taking data from one time interval to a finer-grained time interval. In this case, we perform linear interpolation to take the data up to the minute level. This allows us to better capture changes in temperature.\n",
    "\n",
    "You can perform the upsampling step on its own with `riweather.upsample()`:"
   ]
  },
  {
   "cell_type": "code",
   "execution_count": 22,
   "metadata": {},
   "source": [
    "temps2_upsampled = riweather.upsample(temps2, \"T\")\n",
    "temps2_upsampled"
   ],
   "outputs": []
  },
  {
   "cell_type": "code",
   "execution_count": 23,
   "metadata": {},
   "source": [
    "plot_temps([temps2, temps2_upsampled], [\"Actual\", \"Upsampled\"])"
   ],
   "outputs": []
  },
  {
   "cell_type": "markdown",
   "metadata": {},
   "source": [
    "In the rollup functions, you can perform the upsampling and resampling all in one step by passing `upsample_first=True` (this is the default, so you can also just omit it)."
   ]
  },
  {
   "cell_type": "code",
   "execution_count": 24,
   "metadata": {},
   "source": [
    "riweather.rollup_ending(temps2, \"H\")"
   ],
   "outputs": []
  },
  {
   "cell_type": "markdown",
   "metadata": {},
   "source": [
    "The resampled 1 AM value is now 3.3 degrees, up from 1.5 in the other approach.\n",
    "\n",
    "Going back to the first toy example, let's observe the difference in hour-ending values with and without the initial upsampling:"
   ]
  },
  {
   "cell_type": "code",
   "execution_count": 25,
   "metadata": {},
   "source": [
    "temps_ending_upsampled = riweather.rollup_ending(temps, \"H\", upsample_first=True)\n",
    "temps_ending_not_upsampled = riweather.rollup_ending(temps, \"H\", upsample_first=False)\n",
    "\n",
    "datasets = [\n",
    "    temps,\n",
    "    temps_ending_upsampled,\n",
    "    temps_ending_not_upsampled,\n",
    "]\n",
    "\n",
    "labels = [\n",
    "    \"Actual observations\",\n",
    "    \"Hour-ending, upsampling\",\n",
    "    \"Hour-ending, no upsampling\",\n",
    "]\n",
    "\n",
    "plot_temps(datasets, labels)"
   ],
   "outputs": []
  },
  {
   "cell_type": "markdown",
   "metadata": {},
   "source": [
    "## Fetching, upsampling, and resampling from a Station\n",
    "\n",
    "When fetching temperature data from the ISD, you can perform all of the resampling in a single step by passing the appropriate parameters to `Station.fetch_temp_data()`."
   ]
  },
  {
   "cell_type": "code",
   "execution_count": 26,
   "metadata": {},
   "source": [
    "s = riweather.Station(\"720534\")"
   ],
   "outputs": []
  },
  {
   "cell_type": "code",
   "execution_count": 27,
   "metadata": {},
   "source": [
    "temps = s.fetch_temp_data(\n",
    "    2022, \"temperature\", \"F\", period=\"H\", rollup=\"ending\", upsample_first=True\n",
    ")\n",
    "temps.head()"
   ],
   "outputs": []
  },
  {
   "cell_type": "markdown",
   "metadata": {},
   "source": [
    "### Customizing the resampling process\n",
    "\n",
    "When used in this way, `Station.fetch_temp_data()` performs three steps:\n",
    "\n",
    "1. Fetching the raw data from the ISD\n",
    "2. Upsample to minute-level (if desired)\n",
    "3. Resample to the given time interval\n",
    "\n",
    "Each of these steps is exposed by the `riweather` API as separate functions, so if you want to directly manipulate the data with Pandas, you may store the intermediate datasets and use them however you want.\n",
    "\n",
    "To recreate the exact steps performed in `fetch_temp_data()`:"
   ]
  },
  {
   "cell_type": "code",
   "execution_count": 28,
   "metadata": {},
   "source": [
    "temps_raw = s.fetch_raw_temp_data(2022, \"F\")[\"tempF\"]\n",
    "temps_upsampled = riweather.upsample(temps_raw, \"T\")\n",
    "temps_resampled = riweather.rollup_ending(temps_upsampled, upsample_first=False)"
   ],
   "outputs": []
  },
  {
   "cell_type": "code",
   "execution_count": 51,
   "metadata": {},
   "source": [
    "temps_resampled.head()"
   ],
   "outputs": []
  }
 ],
 "metadata": {
  "kernelspec": {
   "display_name": "Python 3 (ipykernel)",
   "language": "python",
   "name": "python3"
  },
  "language_info": {
   "codemirror_mode": {
    "name": "ipython",
    "version": 3
   },
   "file_extension": ".py",
   "mimetype": "text/x-python",
   "name": "python",
   "nbconvert_exporter": "python",
   "pygments_lexer": "ipython3",
   "version": "3.10.0"
  }
 },
 "nbformat": 4,
 "nbformat_minor": 1
}
